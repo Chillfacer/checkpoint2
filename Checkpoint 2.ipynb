{
 "cells": [
  {
   "cell_type": "code",
   "execution_count": 6,
   "id": "6a4c4d5d",
   "metadata": {},
   "outputs": [
    {
     "name": "stdout",
     "output_type": "stream",
     "text": [
      "Welcome Player To The Guess The Number Game!\n",
      "Im Thinking of a number between 1 and 100, What is it? :50\n",
      "Too High, guess again!\n",
      "Im Thinking of a number between 1 and 100, What is it? :30\n",
      "Too low, guess again!\n",
      "Im Thinking of a number between 1 and 100, What is it? :37\n",
      "correct!, Im thinking of number 37\n"
     ]
    }
   ],
   "source": [
    "truenum=37\n",
    "answer=0\n",
    "print(\"Welcome Player To The Guess The Number Game!\")\n",
    "\n",
    "while truenum != answer:\n",
    "    answer=int(input(\"Im Thinking of a number between 1 and 100, What is it? :\"))\n",
    "    if answer > truenum:\n",
    "        print(\"Too High, guess again!\")\n",
    "    elif answer < truenum:\n",
    "        print(\"Too low, guess again!\")\n",
    "    else:\n",
    "        print(\"correct!, Im thinking of number 37\")"
   ]
  },
  {
   "cell_type": "code",
   "execution_count": null,
   "id": "6dec73bc",
   "metadata": {},
   "outputs": [],
   "source": []
  }
 ],
 "metadata": {
  "kernelspec": {
   "display_name": "Python 3 (ipykernel)",
   "language": "python",
   "name": "python3"
  },
  "language_info": {
   "codemirror_mode": {
    "name": "ipython",
    "version": 3
   },
   "file_extension": ".py",
   "mimetype": "text/x-python",
   "name": "python",
   "nbconvert_exporter": "python",
   "pygments_lexer": "ipython3",
   "version": "3.11.5"
  }
 },
 "nbformat": 4,
 "nbformat_minor": 5
}
